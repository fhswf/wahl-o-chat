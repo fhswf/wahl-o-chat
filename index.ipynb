{
 "cells": [
  {
   "cell_type": "code",
   "execution_count": null,
   "id": "259aad1e-fa40-44be-b709-8815d7587a9c",
   "metadata": {},
   "outputs": [],
   "source": [
    "import chromadb\n",
    "import os\n",
    "from collections import defaultdict\n",
    "from tqdm import tqdm\n",
    "from pathlib import Path\n",
    "from dotenv import load_dotenv, find_dotenv\n",
    "from langchain_core.documents import Document\n",
    "from langchain_core.prompts import PromptTemplate\n",
    "from langchain_chroma import Chroma\n",
    "from langchain_openai import OpenAIEmbeddings, ChatOpenAI\n",
    "from langchain_text_splitters import RecursiveCharacterTextSplitter\n",
    "from langchain_community.document_loaders import PyPDFLoader, Docx2txtLoader\n",
    "from langchain_unstructured.document_loaders import UnstructuredLoader\n",
    "from langchain.retrievers.multi_query import MultiQueryRetriever\n",
    "from langchain.retrievers import MergerRetriever\n",
    "from langchain.retrievers.document_compressors.flashrank_rerank import FlashrankRerank\n",
    "from langchain.retrievers.contextual_compression import ContextualCompressionRetriever\n",
    "from langchain.prompts import ChatPromptTemplate\n",
    "from langchain.chains import create_retrieval_chain\n",
    "from langchain.chains.combine_documents import create_stuff_documents_chain\n",
    "from unstructured.partition.pdf import partition_pdf\n",
    "from unstructured.chunking.title import chunk_by_title\n",
    "from unstructured.chunking.basic import chunk_elements\n",
    "from unstructured.documents.elements import Image\n",
    "\n",
    "load_dotenv(find_dotenv())\n",
    "\n",
    "OPENAI_API_KEY = os.getenv(\"OPENAI_API_KEY\")\n",
    "DATABASE_PATH = \"./chroma/\"\n",
    "EMBEDDING_MODEL = \"text-embedding-ada-002\"\n",
    "\n",
    "def pretty_output(chunks, mode: str):\n",
    "    if mode == \"elements\":\n",
    "        for i, chunk in enumerate(chunks, 1):\n",
    "            print(f\"Chunk {i}:\")\n",
    "            print(chunk.text)\n",
    "            print(\"-\" * 120)\n",
    "            \n",
    "    elif mode == \"documents\":\n",
    "        for i, chunk in enumerate(chunks, 1):\n",
    "            print(f\"Chunk {i}:\")\n",
    "            print(chunk.page_content)\n",
    "            print(\"-\" * 120)"
   ]
  },
  {
   "cell_type": "code",
   "execution_count": null,
   "id": "e5ba3d57-9b81-4bfb-8c73-7bfdddfcceb3",
   "metadata": {},
   "outputs": [],
   "source": [
    "docs = {\n",
    "    \"BSW\": \"BSW_Wahlprogramm_2025__Entwurf_.pdf\",\n",
    "    \"Grüne\": \"Grüne_BTW2025.pdf\",\n",
    "    \"CDU\": \"CDU_BTW2025.pdf\",\n",
    "    \"AfD\": \"AfD_Leitantrag-Bundestagswahlprogramm-2025.pdf\",\n",
    "    \"Linke\": \"btw_2025_wahlprogramm_die_linke.pdf\",\n",
    "    \"SPD\": \"BTW_2025_SPD_Regierungsprogramm.pdf\",\n",
    "    \"FDP\": \"fdp-wahlprogramm_2025.pdf\",\n",
    "    \"Volt\": \"volt-programm-bundestagswahl-2025.pdf\"\n",
    "}"
   ]
  },
  {
   "cell_type": "code",
   "execution_count": null,
   "id": "c35119b9-3363-4d00-ae9f-83c11a8bb97c",
   "metadata": {},
   "outputs": [],
   "source": [
    "from os import path\n",
    "\n",
    "# Chunker 2\n",
    "max_characters = 5000\n",
    "new_after_n_chars = 1500\n",
    "overlap = 1000\n",
    "combine_text_under_n_chars_multiplier=int(new_after_n_chars*(2/3))\n",
    "\n",
    "DOCS = []\n",
    "\n",
    "for (party, fpath) in docs.items():\n",
    "    chunks = UnstructuredLoader(\n",
    "        file_path=path.join(\"files\", fpath),\n",
    "        languages=[\"deu\"],\n",
    "        chunking_strategy=\"by_title\",\n",
    "        max_characters=max_characters,\n",
    "        overlap=overlap,\n",
    "        overlap_all=True,\n",
    "        combine_text_under_n_chars=combine_text_under_n_chars_multiplier,\n",
    "        new_after_n_chars=new_after_n_chars,\n",
    "    ).load()\n",
    "    for chunk in chunks:\n",
    "        chunk.metadata[\"party\"] = party\n",
    "    #print(len(chunks), chunks[0])\n",
    "    DOCS += chunks\n"
   ]
  },
  {
   "cell_type": "code",
   "execution_count": null,
   "id": "ad6b6a54-5f87-4997-9a17-0b6a30ede30e",
   "metadata": {},
   "outputs": [],
   "source": [
    "len(DOCS), DOCS[-1]"
   ]
  },
  {
   "cell_type": "code",
   "execution_count": null,
   "id": "b9702c61",
   "metadata": {},
   "outputs": [],
   "source": [
    "chromadb.configure(allow_reset=True)"
   ]
  },
  {
   "cell_type": "code",
   "execution_count": null,
   "id": "1c0fc653-453a-4fd5-b925-e8054db2f394",
   "metadata": {},
   "outputs": [],
   "source": [
    "client = chromadb.PersistentClient(\n",
    "    path=os.path.join(DATABASE_PATH, f\"{EMBEDDING_MODEL}\")\n",
    ")"
   ]
  },
  {
   "cell_type": "code",
   "execution_count": null,
   "id": "5986e173-6fb4-404c-ab7c-7392d6d16f84",
   "metadata": {},
   "outputs": [],
   "source": [
    "for chunk in DOCS:\n",
    "    for md in chunk.metadata:\n",
    "        if isinstance(chunk.metadata[md], list):\n",
    "            chunk.metadata[md] = str(chunk.metadata[md])"
   ]
  },
  {
   "cell_type": "code",
   "execution_count": null,
   "id": "81b3ad48-811e-48c9-8e46-9df8a7352b73",
   "metadata": {},
   "outputs": [],
   "source": [
    "Chroma.from_documents(\n",
    "    documents=DOCS,\n",
    "    embedding=OpenAIEmbeddings(api_key=OPENAI_API_KEY, model=EMBEDDING_MODEL),\n",
    "    client=client,\n",
    "    collection_name=f\"BTW2025\",\n",
    ")"
   ]
  },
  {
   "cell_type": "code",
   "execution_count": null,
   "id": "da9e7408-5795-47a8-a01d-15d3233a0bc6",
   "metadata": {},
   "outputs": [],
   "source": []
  }
 ],
 "metadata": {
  "kernelspec": {
   "display_name": "Python 3 (ipykernel)",
   "language": "python",
   "name": "python3"
  },
  "language_info": {
   "codemirror_mode": {
    "name": "ipython",
    "version": 3
   },
   "file_extension": ".py",
   "mimetype": "text/x-python",
   "name": "python",
   "nbconvert_exporter": "python",
   "pygments_lexer": "ipython3",
   "version": "3.11.6"
  }
 },
 "nbformat": 4,
 "nbformat_minor": 5
}
